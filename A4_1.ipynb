{
  "nbformat": 4,
  "nbformat_minor": 0,
  "metadata": {
    "colab": {
      "provenance": [],
      "authorship_tag": "ABX9TyObEl+TXTCa6Q9MD9sqA4RW",
      "include_colab_link": true
    },
    "kernelspec": {
      "name": "python3",
      "display_name": "Python 3"
    },
    "language_info": {
      "name": "python"
    }
  },
  "cells": [
    {
      "cell_type": "markdown",
      "metadata": {
        "id": "view-in-github",
        "colab_type": "text"
      },
      "source": [
        "<a href=\"https://colab.research.google.com/github/notjaswanth69/A4-1/blob/main/A4_1.ipynb\" target=\"_parent\"><img src=\"https://colab.research.google.com/assets/colab-badge.svg\" alt=\"Open In Colab\"/></a>"
      ]
    },
    {
      "cell_type": "code",
      "execution_count": null,
      "metadata": {
        "colab": {
          "base_uri": "https://localhost:8080/"
        },
        "id": "558jCTVS9qtv",
        "outputId": "bea3e51d-1975-40f5-deb1-9947b653c9bd"
      },
      "outputs": [
        {
          "output_type": "stream",
          "name": "stdout",
          "text": [
            "{0: {1: 'No', 2: 'No', 3: 'Yes', 4: 'Yes', 5: 'Yes', 6: 'No', 7: 'Yes', 8: 'No', 9: 'Yes', 10: 'Yes', 11: 'Yes', 12: 'Yes', 13: 'Yes', 14: 'No'}}\n"
          ]
        }
      ],
      "source": [
        "import numpy as np\n",
        "import pandas as pd\n",
        "def entropy(y):\n",
        "    values, counts = np.unique(y, return_counts=True)\n",
        "    probs = counts / len(y)\n",
        "    return -np.sum(probs * np.log2(probs))\n",
        "\n",
        "def info_gain(X, y, feature):\n",
        "    unique_vals = np.unique(X[:, feature])\n",
        "    weighted_entropy = 0\n",
        "    for val in unique_vals:\n",
        "        sub_y = y[X[:, feature] == val]\n",
        "        weighted_entropy += len(sub_y) / len(y) * entropy(sub_y)\n",
        "    return entropy(y) - weighted_entropy\n",
        "def best_feature(X, y):\n",
        "    gains = [info_gain(X, y, i) for i in range(X.shape[1])]\n",
        "    return np.argmax(gains)\n",
        "def decision_tree(X, y):\n",
        "    if len(np.unique(y)) == 1:\n",
        "        return np.unique(y)[0]\n",
        "    if X.shape[1] == 0:\n",
        "        return np.bincount(y).argmax()\n",
        "    best_feat = best_feature(X, y)\n",
        "    tree = {best_feat: {}}\n",
        "    for val in np.unique(X[:, best_feat]):\n",
        "        sub_X = X[X[:, best_feat] == val]\n",
        "        sub_y = y[X[:, best_feat] == val]\n",
        "        tree[best_feat][val] = decision_tree(np.delete(sub_X, best_feat, axis=1), sub_y)\n",
        "    return tree\n",
        "data = pd.read_csv('/content/Enjoy sports.csv')\n",
        "X = data.iloc[:, :-1].values\n",
        "y = data.iloc[:, -1].values\n",
        "tree = decision_tree(X, y)\n",
        "print(tree)\n",
        "\n"
      ]
    }
  ]
}